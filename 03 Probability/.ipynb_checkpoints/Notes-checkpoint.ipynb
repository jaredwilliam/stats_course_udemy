{
 "cells": [
  {
   "cell_type": "markdown",
   "metadata": {},
   "source": [
    "# Probability"
   ]
  },
  {
   "cell_type": "markdown",
   "metadata": {},
   "source": [
    "## Permutations"
   ]
  },
  {
   "cell_type": "markdown",
   "metadata": {},
   "source": [
    "A **permutation** of a set of objects is an arragement of the objects in a certain order. The possible of letter **a**, **b**, and **c** are:\n",
    "\n",
    "- abc\n",
    "- acb\n",
    "- bac\n",
    "- bca\n",
    "- cab\n",
    "- cba"
   ]
  },
  {
   "cell_type": "markdown",
   "metadata": {},
   "source": [
    "For simple examples like **abc**, we calculate the number of possible permutations as $n!$ (n factorial). \n",
    "\n",
    "$n! = 3! = 3 * 2 * 1 = 6$"
   ]
  },
  {
   "cell_type": "markdown",
   "metadata": {},
   "source": [
    "You can also take a subset of items in a permutation. The number of permutation of a set of $n$ objects taken $r$ at a time is given by the following formula:\n",
    "\n",
    "<center>$_nP_r = \\frac{n!}{(n-r)!}$</center>\n",
    "\n",
    "For example, if you were trying to figure out how many permutations of three letters you can have out of the entire 26-letter alphabet, $n=26$ and $r=3$."
   ]
  },
  {
   "cell_type": "markdown",
   "metadata": {},
   "source": [
    "Image you have a website that requires a four character password. Characters can either be lowercase letters of the digits 0-9. You may not repeat a letter or number. How many different possible passwords can there be?"
   ]
  },
  {
   "cell_type": "code",
   "execution_count": 4,
   "metadata": {},
   "outputs": [
    {
     "name": "stdout",
     "output_type": "stream",
     "text": [
      "1413720.0\n"
     ]
    }
   ],
   "source": [
    "import math\n",
    "r = 4\n",
    "n = 26 + 10 \n",
    "possible = math.factorial(n) / math.factorial(n-r)\n",
    "print(possible)"
   ]
  },
  {
   "cell_type": "markdown",
   "metadata": {},
   "source": [
    "What if we did allow repitition?\n",
    "\n",
    "The number of arrangement of $n$ objects taken $r$ at a time, *with repitition*, is given by:\n",
    "\n",
    "<center>$n^r$</center>"
   ]
  },
  {
   "cell_type": "markdown",
   "metadata": {},
   "source": [
    "How many 4 digit license plates can you make using the numbers 0 to 9 while allowing repitition?"
   ]
  },
  {
   "cell_type": "code",
   "execution_count": 5,
   "metadata": {},
   "outputs": [
    {
     "name": "stdout",
     "output_type": "stream",
     "text": [
      "10000\n"
     ]
    }
   ],
   "source": [
    "n = 10\n",
    "r = 4\n",
    "possible = n**r\n",
    "print(possible)"
   ]
  },
  {
   "cell_type": "markdown",
   "metadata": {},
   "source": [
    "## Combinations"
   ]
  },
  {
   "cell_type": "markdown",
   "metadata": {},
   "source": [
    "Combinations are *unordered* arrangements of objects. A group of people selected for a team are the same group, no matter the order. \n",
    "\n",
    "The number of combinations of a set of $n$ objects take $r$ at a time is given by:\n",
    "\n",
    "<center> $_nC_r = \\frac{n!}{r!(n-r)!}$ </center>\n",
    "\n",
    "How many 3-letter combinations cna be made from the letters ABCDE?\n",
    "\n",
    "Let's also compare this with the number of permutations you have. The number of perumuations is 60. But only 10 different combinations. "
   ]
  },
  {
   "cell_type": "markdown",
   "metadata": {},
   "source": [
    "For a study, 4 people are chosen at random from a group of 10 people. How many ways can this be done?\n",
    "\n",
    "<center>$_nC_r = \\frac{n!}{r!(n-r)!} = \\frac{10!}{4!(10-4)!} = 210$</center>"
   ]
  },
  {
   "cell_type": "markdown",
   "metadata": {},
   "source": [
    "What if we were allowed to repeat choices? In that case, that is combination with repetition.\n",
    "\n"
   ]
  },
  {
   "cell_type": "code",
   "execution_count": null,
   "metadata": {},
   "outputs": [],
   "source": []
  }
 ],
 "metadata": {
  "kernelspec": {
   "display_name": "Python 3",
   "language": "python",
   "name": "python3"
  },
  "language_info": {
   "name": ""
  }
 },
 "nbformat": 4,
 "nbformat_minor": 4
}
