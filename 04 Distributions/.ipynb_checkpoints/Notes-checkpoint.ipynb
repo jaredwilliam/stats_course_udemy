{
 "cells": [
  {
   "cell_type": "markdown",
   "metadata": {},
   "source": [
    "# Introduction to Distributions\n",
    "A distribution describes all of the probable outcomes of a **variable**. In a discrete distribution, the sum of all the individual probabilities must equal 1. In a continiuous distribution, the area under the probability curve equals 1. \n",
    "\n",
    "**Discrete Distributions**\n",
    "\n",
    "These are also called *probability mass functions*. We are going to cover:\n",
    "- Uniform Distribution\n",
    "- Binomial Distribution\n",
    "- Poisson Distribution"
   ]
  },
  {
   "cell_type": "markdown",
   "metadata": {},
   "source": [
    "# Uniform Distribution\n",
    "Discrete means you can only obtain certain values, uniform means all those values have the same odds of bring obtains - they are evenly distributed acorss the sample space. \n",
    "\n",
    "Think of a fair six-sided die. "
   ]
  },
  {
   "cell_type": "markdown",
   "metadata": {},
   "source": [
    "# Binomial Distribution\n",
    "**Binomial** means there are two discrete, mutually exclusive outcomes of a trial - e.g., heads or tails, success or failure. \n",
    "\n",
    "A **Bernoulli Trial** is a random experiment in which there are only two possible outcomes - success or failure. A series of trials *n* will follow a binary distribution so long as:\n",
    "1. The probability of success *p* is constant\n",
    "2. Trials are independent of on another"
   ]
  },
  {
   "cell_type": "markdown",
   "metadata": {},
   "source": [
    "** Binomial Probability Mass Function** \n",
    "\n",
    "Gives the probability of observing *x* successes in *n* trials. The probability of success on a single trial is denoted by *p*. Assumes that *p* is fixed for all trials. \n",
    "\n",
    "<center>$P(x:n,p) = \\binom{n}{x}p^x(1-p)^{n-x}$</center>\n",
    "\n",
    "e.g. - getting 3 heads in 10 coin flips. "
   ]
  },
  {
   "cell_type": "markdown",
   "metadata": {},
   "source": [
    "**Exercise**\n",
    "\n",
    "If you roll a die 16 times, what is the probability that a five comes up 3 times?\n",
    "\n",
    "*n = 16*\n",
    "\n",
    "*x = 3*\n",
    "\n",
    "*p = 1/6*\n",
    "\n",
    "<center>$P(x:n,p) = \\binom{n}{x}p^x(1-p)^{n-x}$</center>\n",
    "\n",
    "<center>$ = \\frac{n!}{x!(n-x)!}p^x(1-p)^{n-x}$</center>\n",
    "\n",
    "<center>$ = \\frac{16!}{3!(16-3)!}(\\frac{1}{6})^3(1-\\frac{1}{6})^{16-3}$</center>\n",
    "\n",
    "<center>$=0.242$</center>"
   ]
  },
  {
   "cell_type": "markdown",
   "metadata": {},
   "source": [
    "# Poisson Distribution"
   ]
  },
  {
   "cell_type": "markdown",
   "metadata": {},
   "source": [
    "A **Poisson Distribution** considers the number of successes *per unit of time* over the course of many units (actually any other continuous unit, e.g., distance).\n",
    "\n",
    "Calculation of the Poisson **probability mass function** starts with a mean expected value...\n",
    "\n",
    "<center>$E(X) = \\mu$</center>\n",
    "\n",
    "This is then assigned to \"lambda\"...\n",
    "\n",
    "<center>$\\lambda = \\frac{occurrences}{interval} = \\mu$</center>\n",
    "\n",
    "The equation becomes:\n",
    "\n",
    "<center>$P(x) = \\frac{\\lambda^xe^{-\\lambda}}{x!}$</center>"
   ]
  },
  {
   "cell_type": "markdown",
   "metadata": {},
   "source": [
    "**Exercise #1**\n",
    "\n",
    "A warehouse typically receives 8 deliveries between 4pm and 5pm on Friday. What is the probability that only 4 deliveries will arrive between 4 and 5pm this Friday?\n",
    "\n",
    "<center>$P(x) = \\frac{8^4e^{-8}}{4!} = 0.0572$</center>"
   ]
  },
  {
   "cell_type": "markdown",
   "metadata": {},
   "source": [
    "The **cumulative mass function** is simply the sum of all the discrete probabilities. The probability of seeing *fewer than* 4 events in a Poisson Distribution is:\n",
    "\n",
    "<center>$P(X:x<4) = \\sum\\limits_{i=0}^3 \\frac{\\lambda^ie^{-\\lambda}}{i!}$</center>\n",
    "\n",
    "<center>$=\n",
    "\\frac{\\lambda^0e^{-\\lambda}}{0!}+\n",
    "\\frac{\\lambda^1e^{-\\lambda}}{1!}+\n",
    "\\frac{\\lambda^2e^{-\\lambda}}{2!}+\n",
    "\\frac{\\lambda^3e^{-\\lambda}}{3!}$\n",
    "    </center>"
   ]
  },
  {
   "cell_type": "markdown",
   "metadata": {},
   "source": [
    "Remember that the sum of all possibilities equals 1. The probability of seeing *at least* 1 event is one minus the probability of seeing none:\n",
    "\n",
    "<center>\n",
    "    $\n",
    "        P(X:x\\geq1) = 1-P(X:x=0) = 1-\\frac{\\lambda^0e^{-\\lambda}}{0!}=1-e^{-\\lambda}\n",
    "    $\n",
    "</center>"
   ]
  },
  {
   "cell_type": "markdown",
   "metadata": {},
   "source": [
    "**Exercise #2**\n",
    "\n",
    "A warehouse typically receives 8 deliveries between 4pm and 5pm on Friday. What is the probability that fewer than 3 will arrive between 4 and 5 pm this Friday?\n",
    "\n",
    "<center>\n",
    "    $=\n",
    "        \\frac{\\lambda^0e^{-\\lambda}}{0!}+\n",
    "        \\frac{\\lambda^1e^{-\\lambda}}{1!}+\n",
    "        \\frac{\\lambda^2e^{-\\lambda}}{2!}\n",
    "    $\n",
    "</center>\n",
    "\n",
    "<center>\n",
    "    $=\n",
    "        \\frac{8^0e^{-8}}{0!}+\n",
    "        \\frac{8^1e^{-8}}{1!}+\n",
    "        \\frac{8^2e^{-8}}{2!} \n",
    "        = 0.0137\n",
    "    $\n",
    "</center>"
   ]
  },
  {
   "cell_type": "markdown",
   "metadata": {},
   "source": [
    "The Poisson Distributino assumes that the probability of success during a small time interval is proportional to the entire length of the interval. \n",
    "\n",
    "So if you know the expected value over an hour, then the expected value over one minute of that hour is $\\lambda/60$"
   ]
  },
  {
   "cell_type": "markdown",
   "metadata": {},
   "source": [
    "**Exercise #3**\n",
    "\n",
    "A warehouse typically receives 8 deliveries between 4pm and 5pm on Friday. What is the probability that no deliveries arrive between 4:00 and 4:05 pm?\n",
    "\n",
    "<center>\n",
    "$\\lambda_{hour}= 8$\n",
    "</center>\n",
    "<center>\n",
    "$\\lambda_{5mins} = \\frac{\\lambda_{hour}}{60}\\times 5 = 2/3$\n",
    "</center>\n",
    "<center>\n",
    "$x = 0$\n",
    "</center>\n",
    "<center>\n",
    "$P(x) = \\frac{\\lambda^xe^{-\\lambda}}{x!}=\\frac{0.67^0e^{-0.67}}{0!} = 0.5134$\n",
    "</center>"
   ]
  },
  {
   "cell_type": "markdown",
   "metadata": {},
   "source": [
    "# Normal Distribution"
   ]
  },
  {
   "cell_type": "markdown",
   "metadata": {},
   "source": [
    "Continuous probability distributions are also called probability density functions:\n",
    "- Normal distribution\n",
    "- Exponential distribution\n",
    "- Beta distribution\n",
    "\n",
    "Many real life data points follow a normal distribution. These data sources tend to be around a central value with no biad left of right, and it gets close to a \"normal distribution\". Sometimes called a Gaussian distribution or a bell curve. \n",
    "\n",
    "We use a continuous distribution to model the behavior of these data sources. \n",
    "\n",
    "The area under the curve equals one. \n",
    "\n",
    "Always symmetrical. Curves with a skew are not normal. \n",
    "\n",
    "The probability of a **specific** outcome is zero. We can only find probabilities over a specified interval or range of outcomes. \n",
    "\n",
    "In a normal distribution, the mean, median, and mode are equal to the same value. \n",
    "\n",
    "In a **standard** normal distribution, the mean is 0 and the standard deviation is 1. \n",
    "\n",
    "68.27% of the values lie within one standard deviation\n",
    "\n",
    "95.45% of all values lie within two standard deviations\n",
    "\n",
    "99.73% of all values lie witihn three standard deviatations. "
   ]
  },
  {
   "cell_type": "markdown",
   "metadata": {},
   "source": [
    "All normal curves exhibit the same behavior:\n",
    "- Symmetry about the mean\n",
    "- 99.73% of values fall within three standard deviations\n",
    "\n",
    "However, the mean does not have to be 0 and the standard deviation does not have to be 1. \n",
    "\n",
    "If we determine that a population approximates a normal distribution, then we can make some powerful inferences about it once we know its mean and standard deviation. "
   ]
  },
  {
   "cell_type": "code",
   "execution_count": null,
   "metadata": {},
   "outputs": [],
   "source": []
  }
 ],
 "metadata": {
  "kernelspec": {
   "display_name": "Python 3",
   "language": "python",
   "name": "python3"
  },
  "language_info": {
   "codemirror_mode": {
    "name": "ipython",
    "version": 3
   },
   "file_extension": ".py",
   "mimetype": "text/x-python",
   "name": "python",
   "nbconvert_exporter": "python",
   "pygments_lexer": "ipython3",
   "version": "3.8.5"
  }
 },
 "nbformat": 4,
 "nbformat_minor": 4
}
